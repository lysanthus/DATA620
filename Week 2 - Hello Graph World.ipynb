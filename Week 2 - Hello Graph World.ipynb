{
 "cells": [
  {
   "cell_type": "markdown",
   "id": "particular-luxembourg",
   "metadata": {},
   "source": [
    "# Assignment \"Hello, graph world\""
   ]
  },
  {
   "cell_type": "markdown",
   "id": "excessive-volunteer",
   "metadata": {},
   "source": [
    "**Adam Douglas**"
   ]
  },
  {
   "cell_type": "markdown",
   "id": "cross-berry",
   "metadata": {},
   "source": [
    "The purpose of this assignment is to prove that my Python environment is operating properly, and that the NetworkX package is installed and working as intended."
   ]
  },
  {
   "cell_type": "code",
   "execution_count": 13,
   "id": "received-management",
   "metadata": {},
   "outputs": [],
   "source": [
    "import networkx as nx\n",
    "import matplotlib.pyplot as plt"
   ]
  },
  {
   "cell_type": "code",
   "execution_count": 14,
   "id": "fatal-listening",
   "metadata": {},
   "outputs": [],
   "source": [
    "# Initialize an empty graph\n",
    "G = nx.Graph()"
   ]
  },
  {
   "cell_type": "markdown",
   "id": "departmental-incidence",
   "metadata": {},
   "source": [
    "We will start by adding the nodes to the graph:"
   ]
  },
  {
   "cell_type": "code",
   "execution_count": 15,
   "id": "level-religion",
   "metadata": {},
   "outputs": [],
   "source": [
    "G.add_nodes_from([\"Ed\",\"Garth\",\"Beverly\",\"Diane\",\"Andre\",\"Fernando\",\"Carol\",\"Heather\",\"Ike\",\"Jane\"])"
   ]
  },
  {
   "cell_type": "code",
   "execution_count": 16,
   "id": "cooked-conservative",
   "metadata": {},
   "outputs": [
    {
     "name": "stdout",
     "output_type": "stream",
     "text": [
      "['Ed', 'Garth', 'Beverly', 'Diane', 'Andre', 'Fernando', 'Carol', 'Heather', 'Ike', 'Jane']\n"
     ]
    }
   ],
   "source": [
    "print(G.nodes())"
   ]
  },
  {
   "cell_type": "markdown",
   "id": "unable-implementation",
   "metadata": {},
   "source": [
    "Next we want to add the edges (carefully) to the graph to show the relationships between the nodes (people).\n",
    "\n",
    "We will start with \"Ed\" at the bottom and progress from there.\n",
    "\n",
    "**Note:** Because this is an undirected graph, you only need to add an edge once. However, to ensure I didn't miss any, I added each node's edges even if they were already in place from another node. So, there is some redundancy in the code below."
   ]
  },
  {
   "cell_type": "code",
   "execution_count": 17,
   "id": "suspended-pioneer",
   "metadata": {},
   "outputs": [],
   "source": [
    "# Add Ed's edges via a list of tuples\n",
    "G.add_edges_from([(\"Ed\",\"Beverly\"),(\"Ed\",\"Diane\"),(\"Ed\",\"Garth\")])\n",
    "\n",
    "# Add Beverly's edges\n",
    "G.add_edges_from([(\"Beverly\",\"Andre\"),(\"Beverly\",\"Diane\"),(\"Beverly\",\"Garth\"),(\"Beverly\",\"Ed\")])\n",
    "\n",
    "# Add Garth's edges\n",
    "G.add_edges_from([(\"Garth\",\"Fernando\"),(\"Garth\",\"Diane\"),(\"Garth\",\"Beverly\"),(\"Garth\",\"Ed\"),(\"Garth\",\"Heather\")])\n",
    "\n",
    "# Add Diane's edges\n",
    "G.add_edges_from([(\"Diane\",\"Beverly\"),(\"Diane\",\"Ed\"),(\"Diane\",\"Garth\"),(\"Diane\",\"Andre\"),(\"Diane\",\"Fernando\"),(\"Diane\",\"Carol\")])\n",
    "\n",
    "# Add Andre's edges\n",
    "G.add_edges_from([(\"Andre\",\"Beverly\"),(\"Andre\",\"Diane\"),(\"Andre\",\"Fernando\"),(\"Andre\",\"Carol\")])\n",
    "\n",
    "# Add Fernando's edges\n",
    "G.add_edges_from([(\"Fernando\",\"Garth\"),(\"Fernando\",\"Diane\"),(\"Fernando\",\"Andre\"),(\"Fernando\",\"Carol\"),(\"Fernando\",\"Heather\")])\n",
    "\n",
    "# Add Carol's edges\n",
    "G.add_edges_from([(\"Carol\",\"Diane\"),(\"Carol\",\"Andre\"),(\"Carol\",\"Fernando\")])\n",
    "\n",
    "# Add Heather's edges\n",
    "G.add_edges_from([(\"Heather\",\"Garth\"),(\"Heather\",\"Fernando\"),(\"Heather\",\"Ike\")])\n",
    "\n",
    "# Add Ike's edges\n",
    "G.add_edges_from([(\"Ike\",\"Heather\"),(\"Ike\",\"Jane\")])\n",
    "\n",
    "# Add Jane's edges\n",
    "G.add_edges_from([(\"Jane\",\"Ike\")])"
   ]
  },
  {
   "cell_type": "markdown",
   "id": "numeric-fifty",
   "metadata": {},
   "source": [
    "Now we have all the nodes and edges in our graph and can plot it:"
   ]
  },
  {
   "cell_type": "code",
   "execution_count": 19,
   "id": "liquid-malta",
   "metadata": {},
   "outputs": [
    {
     "data": {
      "image/png": "[encoded data removed]",
      "text/plain": [
       "<Figure size 432x288 with 1 Axes>"
      ]
     },
     "metadata": {},
     "output_type": "display_data"
    }
   ],
   "source": [
    "nx.draw(G, with_labels=True, node_color=\"#f5cb42\")\n",
    "plt.show()"
   ]
  },
  {
   "cell_type": "code",
   "execution_count": null,
   "id": "institutional-original",
   "metadata": {},
   "outputs": [],
   "source": []
  }
 ],
 "metadata": {
  "kernelspec": {
   "display_name": "Python 3",
   "language": "python",
   "name": "python3"
  },
  "language_info": {
   "codemirror_mode": {
    "name": "ipython",
    "version": 3
   },
   "file_extension": ".py",
   "mimetype": "text/x-python",
   "name": "python",
   "nbconvert_exporter": "python",
   "pygments_lexer": "ipython3",
   "version": "3.7.7"
  },
  "toc": {
   "base_numbering": 1,
   "nav_menu": {},
   "number_sections": false,
   "sideBar": true,
   "skip_h1_title": true,
   "title_cell": "Table of Contents",
   "title_sidebar": "Contents",
   "toc_cell": false,
   "toc_position": {},
   "toc_section_display": true,
   "toc_window_display": false
  },
  "varInspector": {
   "cols": {
    "lenName": 16,
    "lenType": 16,
    "lenVar": 40
   },
   "kernels_config": {
    "python": {
     "delete_cmd_postfix": "",
     "delete_cmd_prefix": "del ",
     "library": "var_list.py",
     "varRefreshCmd": "print(var_dic_list())"
    },
    "r": {
     "delete_cmd_postfix": ") ",
     "delete_cmd_prefix": "rm(",
     "library": "var_list.r",
     "varRefreshCmd": "cat(var_dic_list()) "
    }
   },
   "types_to_exclude": [
    "module",
    "function",
    "builtin_function_or_method",
    "instance",
    "_Feature"
   ],
   "window_display": false
  }
 },
 "nbformat": 4,
 "nbformat_minor": 5
}
