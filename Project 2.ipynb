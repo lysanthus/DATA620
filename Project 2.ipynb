{
 "cells": [
  {
   "cell_type": "markdown",
   "metadata": {},
   "source": [
    "# Assignment 6\n",
    "\n",
    "**GROUP: Forhad Akbar, Adam Douglas, and Soumya Ghosh**"
   ]
  },
  {
   "cell_type": "markdown",
   "metadata": {},
   "source": [
    "## Background\n",
    "\n",
    "In the 1990s Rick Rosenfeld and Norm White used police records to collect data on crime in St. Louis. They began with five homicides and recorded the names of all the individuals who had been involved as victims, suspects or witnesses. They then explored the files and recorded all the other crimes in which those same individuals appeared. This snowball process was continued until they had data on 557 crime events. Those events involved 870 participants of which: 569 appeared as victims 682 appeared as suspects 195 appeared as witnesses, and 41 were dual (they were recorded both as victims and suspects in the same crime. Their data appear, then, as an 870 by 557, individual by crime event matrix. Victims are coded as 1, suspects as 2, witnesses as 3 and duals as 4. In addition Rosenfeld and White recorded the sex of each individual.\n",
    "\n",
    "Data Sources:\n",
    "\n",
    "https://github.com/nderzsy/Network-Analysis-in-Python---Tutorial-JupyterCon18-ODSCEast18/tree/master/datafiles/social/crime\n",
    "\n",
    "http://moreno.ss.uci.edu/data.html#crime"
   ]
  },
  {
   "cell_type": "markdown",
   "metadata": {},
   "source": [
    "## Data Import"
   ]
  },
  {
   "cell_type": "markdown",
   "metadata": {},
   "source": [
    "We begin by importing our data from the source site (github). The data is provided in several files, so there are a few steps that need to be taken to put the data together into a single bipartite graph."
   ]
  },
  {
   "cell_type": "code",
   "execution_count": 125,
   "metadata": {},
   "outputs": [],
   "source": [
    "# Import all necessary packages\n",
    "\n",
    "import pandas as pd\n",
    "import numpy as np\n",
    "import math\n",
    "import networkx as nx\n",
    "import matplotlib.pyplot as plt\n",
    "%matplotlib inline\n",
    "import networkx.algorithms.bipartite as bipartite\n",
    "from pyvis import network as net\n",
    "import matplotlib.pyplot as plt"
   ]
  },
  {
   "cell_type": "code",
   "execution_count": 126,
   "metadata": {},
   "outputs": [],
   "source": [
    "# Read in persons and their associate sex\n",
    "\n",
    "person = pd.read_csv('ent.moreno_crime_crime.person.name', sep='\\t', header = None, names = ['Name'])\n",
    "person['Sex'] = pd.read_csv('ent.moreno_crime_crime.person.sex', header = None)\n",
    "\n",
    "person.loc[person.Sex == 0, ['Sex']] = 'F'\n",
    "person.loc[person.Sex == 1, ['Sex']] = 'M'"
   ]
  },
  {
   "cell_type": "code",
   "execution_count": 127,
   "metadata": {},
   "outputs": [],
   "source": [
    "# Create the crime dataframe that associates a person with a crime in some manner\n",
    "\n",
    "crime = pd.read_csv(\"out.moreno_crime_crime\", delim_whitespace = True, skiprows = [0,1], names = ['Person', 'Crime'])"
   ]
  },
  {
   "cell_type": "code",
   "execution_count": 128,
   "metadata": {},
   "outputs": [],
   "source": [
    "# Add the roles of each person (e.g. Person 1 is the suspect in Crime 1)\n",
    "\n",
    "crime['Role'] = pd.read_csv(\"rel.moreno_crime_crime.person.role\", header = None)"
   ]
  },
  {
   "cell_type": "code",
   "execution_count": 129,
   "metadata": {},
   "outputs": [
    {
     "data": {
      "text/html": [
       "<div>\n",
       "<style scoped>\n",
       "    .dataframe tbody tr th:only-of-type {\n",
       "        vertical-align: middle;\n",
       "    }\n",
       "\n",
       "    .dataframe tbody tr th {\n",
       "        vertical-align: top;\n",
       "    }\n",
       "\n",
       "    .dataframe thead th {\n",
       "        text-align: right;\n",
       "    }\n",
       "</style>\n",
       "<table border=\"1\" class=\"dataframe\">\n",
       "  <thead>\n",
       "    <tr style=\"text-align: right;\">\n",
       "      <th></th>\n",
       "      <th>Person</th>\n",
       "      <th>Crime</th>\n",
       "      <th>Role</th>\n",
       "      <th>Name</th>\n",
       "      <th>Sex</th>\n",
       "    </tr>\n",
       "  </thead>\n",
       "  <tbody>\n",
       "    <tr>\n",
       "      <th>0</th>\n",
       "      <td>1</td>\n",
       "      <td>C1</td>\n",
       "      <td>Suspect</td>\n",
       "      <td>AbelDennis</td>\n",
       "      <td>M</td>\n",
       "    </tr>\n",
       "    <tr>\n",
       "      <th>1</th>\n",
       "      <td>1</td>\n",
       "      <td>C2</td>\n",
       "      <td>Victim</td>\n",
       "      <td>AbelDennis</td>\n",
       "      <td>M</td>\n",
       "    </tr>\n",
       "    <tr>\n",
       "      <th>2</th>\n",
       "      <td>1</td>\n",
       "      <td>C3</td>\n",
       "      <td>Victim</td>\n",
       "      <td>AbelDennis</td>\n",
       "      <td>M</td>\n",
       "    </tr>\n",
       "    <tr>\n",
       "      <th>3</th>\n",
       "      <td>1</td>\n",
       "      <td>C4</td>\n",
       "      <td>Suspect</td>\n",
       "      <td>AbelDennis</td>\n",
       "      <td>M</td>\n",
       "    </tr>\n",
       "    <tr>\n",
       "      <th>4</th>\n",
       "      <td>2</td>\n",
       "      <td>C5</td>\n",
       "      <td>Victim</td>\n",
       "      <td>AbramsChad</td>\n",
       "      <td>M</td>\n",
       "    </tr>\n",
       "  </tbody>\n",
       "</table>\n",
       "</div>"
      ],
      "text/plain": [
       "   Person Crime     Role        Name Sex\n",
       "0       1    C1  Suspect  AbelDennis   M\n",
       "1       1    C2   Victim  AbelDennis   M\n",
       "2       1    C3   Victim  AbelDennis   M\n",
       "3       1    C4  Suspect  AbelDennis   M\n",
       "4       2    C5   Victim  AbramsChad   M"
      ]
     },
     "execution_count": 129,
     "metadata": {},
     "output_type": "execute_result"
    }
   ],
   "source": [
    "# Add the name and sex to the main crime dataframe\n",
    "\n",
    "crime[\"Name\"] = \"\"\n",
    "crime[\"Sex\"] = \"\"\n",
    "\n",
    "for i in range(0, len(person)):\n",
    "    crime.loc[crime.Person == i+1, ['Sex']] = person.iloc[i][\"Sex\"]\n",
    "    crime.loc[crime.Person == i+1, ['Name']] = person.iloc[i][\"Name\"]\n",
    "\n",
    "# Change the crime event to a string and append \"C\"\n",
    "crime = crime.astype({\"Crime\": str})\n",
    "crime[\"Crime\"] = \"C\" + crime[\"Crime\"]\n",
    "\n",
    "# Remove witness entries\n",
    "crime.drop(crime[crime['Role'] == \"Witness\"].index, inplace = True) \n",
    "\n",
    "#Final dataset\n",
    "crime.head()"
   ]
  },
  {
   "cell_type": "markdown",
   "metadata": {},
   "source": [
    "Now that we have the data in a combined dataframe, we can begin to put it together into a graph format."
   ]
  },
  {
   "cell_type": "markdown",
   "metadata": {},
   "source": [
    "## Creating the Graph"
   ]
  },
  {
   "cell_type": "code",
   "execution_count": 120,
   "metadata": {},
   "outputs": [
    {
     "name": "stdout",
     "output_type": "stream",
     "text": [
      "Name: \n",
      "Type: DiGraph\n",
      "Number of nodes: 1259\n",
      "Number of edges: 1240\n",
      "Average in degree:   0.9849\n",
      "Average out degree:   0.9849\n"
     ]
    }
   ],
   "source": [
    "G = nx.DiGraph()\n",
    "\n",
    "for n, r, c, s in zip(crime['Name'],crime['Role'],crime['Crime'],crime['Sex']):\n",
    "    if n not in G.nodes() and r != 'Witness':\n",
    "        G.add_node(n, Sex = s, bipartite = 0)\n",
    "    if c not in G.nodes():\n",
    "        G.add_node(c, bipartite = 1)\n",
    "    if r == 'Suspect':\n",
    "        G.add_edge(n,c)\n",
    "    elif r == 'Victim':\n",
    "        G.add_edge(c,n)\n",
    "\n",
    "print(nx.info(G))"
   ]
  },
  {
   "cell_type": "code",
   "execution_count": 121,
   "metadata": {},
   "outputs": [
    {
     "data": {
      "text/plain": [
       "True"
      ]
     },
     "execution_count": 121,
     "metadata": {},
     "output_type": "execute_result"
    }
   ],
   "source": [
    "nx.is_bipartite(G)"
   ]
  },
  {
   "cell_type": "code",
   "execution_count": 122,
   "metadata": {},
   "outputs": [
    {
     "data": {
      "text/html": [
       "\n",
       "        <iframe\n",
       "            width=\"100%\"\n",
       "            height=\"800px\"\n",
       "            src=\"graph.html\"\n",
       "            frameborder=\"0\"\n",
       "            allowfullscreen\n",
       "        ></iframe>\n",
       "        "
      ],
      "text/plain": [
       "<IPython.lib.display.IFrame at 0x7fc7bb17e400>"
      ]
     },
     "execution_count": 122,
     "metadata": {},
     "output_type": "execute_result"
    }
   ],
   "source": [
    "n1 = net.Network(height = \"800px\", width = \"100%\", notebook = True,\n",
    "               heading = 'Crimes and People', directed = True)\n",
    "\n",
    "n1.add_nodes(G.nodes())\n",
    "for u,v in G.edges():\n",
    "    n1.add_edge(u,v)\n",
    "\n",
    "n1.show(\"graph.html\")"
   ]
  },
  {
   "cell_type": "markdown",
   "metadata": {},
   "source": [
    "The first thing that jumps out is the number of nodes where there are no connections. Because we specifically excluded the witnesses, this should not be.\n",
    "\n",
    "Let's look and see why that is: "
   ]
  },
  {
   "cell_type": "code",
   "execution_count": 134,
   "metadata": {},
   "outputs": [
    {
     "data": {
      "text/plain": [
       "[('BeckerMax', 'C86', 'Victim Suspect'),\n",
       " ('TraskBenjie', 'C86', 'Victim Suspect'),\n",
       " ('ReddickJohn', 'C82', 'Victim Suspect'),\n",
       " ('AndrewsSally', 'C54', 'Victim Suspect'),\n",
       " ('KirklandRudy', 'C439', 'Victim Suspect'),\n",
       " ('KetterPercy', 'C436', 'Victim Suspect'),\n",
       " ('StanleyMaurice', 'C390', 'Victim Suspect'),\n",
       " ('GleesonMatt', 'C341', 'Victim Suspect'),\n",
       " ('TillieNigel', 'C324', 'Victim Suspect'),\n",
       " ('FindlayGary', 'C318', 'Victim Suspect'),\n",
       " ('NoblesCary', 'C318', 'Victim Suspect'),\n",
       " ('EvansJay', 'C311', 'Victim Suspect'),\n",
       " ('RosenHenry', 'C271', 'Victim Suspect'),\n",
       " ('CoreyAlonzo', 'C241', 'Victim Suspect'),\n",
       " ('GuntherMatt', 'C241', 'Victim Suspect'),\n",
       " ('KirklandNiles', 'C241', 'Victim Suspect'),\n",
       " ('ConrackCarol', 'C228', 'Victim Suspect'),\n",
       " ('CanfieldAristides', 'C192', 'Victim Suspect'),\n",
       " ('SprintMelody', 'C192', 'Victim Suspect'),\n",
       " ('StithCarlton', 'C169', 'Victim Suspect'),\n",
       " ('BoyleAlice', 'C151', 'Victim Suspect'),\n",
       " ('ForesterCarol', 'C146', 'Victim Suspect')]"
      ]
     },
     "execution_count": 134,
     "metadata": {},
     "output_type": "execute_result"
    }
   ],
   "source": [
    "unconn = [n for n in nx.isolates(G)]\n",
    "\n",
    "isol = [(n, c, r) for n, c, r in zip(crime[\"Name\"],crime[\"Crime\"],crime[\"Role\"]) if c in unconn or n in unconn]\n",
    "\n",
    "sorted(isol, key = lambda x: x[1], reverse = True)"
   ]
  },
  {
   "cell_type": "markdown",
   "metadata": {},
   "source": [
    "It appears that these unconnected nodes are where the person is both a victim and a suspect. Why would such a thing occur?\n",
    "\n",
    "Well, one situation might be when the crime is a fight or sorts where both parties are responsible. In those cases, we would see more than one person in that role (e.g. C86). However we see a few that only have a single person. So, unless that person is fighting themselves (see *Fight Club*), that makes no sense.\n",
    "\n",
    "Let's look at an example:"
   ]
  },
  {
   "cell_type": "code",
   "execution_count": 138,
   "metadata": {
    "scrolled": true
   },
   "outputs": [
    {
     "data": {
      "text/html": [
       "<div>\n",
       "<style scoped>\n",
       "    .dataframe tbody tr th:only-of-type {\n",
       "        vertical-align: middle;\n",
       "    }\n",
       "\n",
       "    .dataframe tbody tr th {\n",
       "        vertical-align: top;\n",
       "    }\n",
       "\n",
       "    .dataframe thead th {\n",
       "        text-align: right;\n",
       "    }\n",
       "</style>\n",
       "<table border=\"1\" class=\"dataframe\">\n",
       "  <thead>\n",
       "    <tr style=\"text-align: right;\">\n",
       "      <th></th>\n",
       "      <th>Person</th>\n",
       "      <th>Crime</th>\n",
       "      <th>Role</th>\n",
       "      <th>Name</th>\n",
       "      <th>Sex</th>\n",
       "    </tr>\n",
       "  </thead>\n",
       "  <tbody>\n",
       "    <tr>\n",
       "      <th>570</th>\n",
       "      <td>319</td>\n",
       "      <td>C82</td>\n",
       "      <td>Suspect</td>\n",
       "      <td>GreenByron</td>\n",
       "      <td>M</td>\n",
       "    </tr>\n",
       "    <tr>\n",
       "      <th>1028</th>\n",
       "      <td>567</td>\n",
       "      <td>C82</td>\n",
       "      <td>Suspect</td>\n",
       "      <td>OneilLinda</td>\n",
       "      <td>F</td>\n",
       "    </tr>\n",
       "    <tr>\n",
       "      <th>1120</th>\n",
       "      <td>632</td>\n",
       "      <td>C82</td>\n",
       "      <td>Victim Suspect</td>\n",
       "      <td>ReddickJohn</td>\n",
       "      <td>M</td>\n",
       "    </tr>\n",
       "    <tr>\n",
       "      <th>1365</th>\n",
       "      <td>772</td>\n",
       "      <td>C82</td>\n",
       "      <td>Victim</td>\n",
       "      <td>TylerOwen</td>\n",
       "      <td>M</td>\n",
       "    </tr>\n",
       "  </tbody>\n",
       "</table>\n",
       "</div>"
      ],
      "text/plain": [
       "      Person Crime            Role         Name Sex\n",
       "570      319   C82         Suspect   GreenByron   M\n",
       "1028     567   C82         Suspect   OneilLinda   F\n",
       "1120     632   C82  Victim Suspect  ReddickJohn   M\n",
       "1365     772   C82          Victim    TylerOwen   M"
      ]
     },
     "execution_count": 138,
     "metadata": {},
     "output_type": "execute_result"
    }
   ],
   "source": [
    "crime[crime[\"Crime\"]==\"C82\"]"
   ]
  },
  {
   "cell_type": "markdown",
   "metadata": {},
   "source": [
    "Now we see a bit more clearly. In the above example the person \"ReddickJohn\" is not the only participant in the crime. Perhaps the authorities suspect that this person was \"in on\" the crime despite their attempts to present themselves as another victim?\n",
    "\n",
    "We should split these entries into 2, one as a suspect and one as a victim."
   ]
  },
  {
   "cell_type": "code",
   "execution_count": 140,
   "metadata": {},
   "outputs": [
    {
     "data": {
      "text/html": [
       "<div>\n",
       "<style scoped>\n",
       "    .dataframe tbody tr th:only-of-type {\n",
       "        vertical-align: middle;\n",
       "    }\n",
       "\n",
       "    .dataframe tbody tr th {\n",
       "        vertical-align: top;\n",
       "    }\n",
       "\n",
       "    .dataframe thead th {\n",
       "        text-align: right;\n",
       "    }\n",
       "</style>\n",
       "<table border=\"1\" class=\"dataframe\">\n",
       "  <thead>\n",
       "    <tr style=\"text-align: right;\">\n",
       "      <th></th>\n",
       "      <th>Person</th>\n",
       "      <th>Crime</th>\n",
       "      <th>Name</th>\n",
       "      <th>Sex</th>\n",
       "      <th>Role</th>\n",
       "    </tr>\n",
       "  </thead>\n",
       "  <tbody>\n",
       "    <tr>\n",
       "      <th>570</th>\n",
       "      <td>319</td>\n",
       "      <td>C82</td>\n",
       "      <td>GreenByron</td>\n",
       "      <td>M</td>\n",
       "      <td>Suspect</td>\n",
       "    </tr>\n",
       "    <tr>\n",
       "      <th>1028</th>\n",
       "      <td>567</td>\n",
       "      <td>C82</td>\n",
       "      <td>OneilLinda</td>\n",
       "      <td>F</td>\n",
       "      <td>Suspect</td>\n",
       "    </tr>\n",
       "    <tr>\n",
       "      <th>1120</th>\n",
       "      <td>632</td>\n",
       "      <td>C82</td>\n",
       "      <td>ReddickJohn</td>\n",
       "      <td>M</td>\n",
       "      <td>Victim</td>\n",
       "    </tr>\n",
       "    <tr>\n",
       "      <th>1120</th>\n",
       "      <td>632</td>\n",
       "      <td>C82</td>\n",
       "      <td>ReddickJohn</td>\n",
       "      <td>M</td>\n",
       "      <td>Suspect</td>\n",
       "    </tr>\n",
       "    <tr>\n",
       "      <th>1365</th>\n",
       "      <td>772</td>\n",
       "      <td>C82</td>\n",
       "      <td>TylerOwen</td>\n",
       "      <td>M</td>\n",
       "      <td>Victim</td>\n",
       "    </tr>\n",
       "  </tbody>\n",
       "</table>\n",
       "</div>"
      ],
      "text/plain": [
       "      Person Crime         Name Sex     Role\n",
       "570      319   C82   GreenByron   M  Suspect\n",
       "1028     567   C82   OneilLinda   F  Suspect\n",
       "1120     632   C82  ReddickJohn   M   Victim\n",
       "1120     632   C82  ReddickJohn   M  Suspect\n",
       "1365     772   C82    TylerOwen   M   Victim"
      ]
     },
     "execution_count": 140,
     "metadata": {},
     "output_type": "execute_result"
    }
   ],
   "source": [
    "# Split the role column\n",
    "\n",
    "crime = crime.drop('Role', axis=1).join(crime['Role'].str.split(' ', expand=True).stack().reset_index(level=1, drop=True).rename('Role'))\n",
    "\n",
    "# Check our example from above\n",
    "crime[crime[\"Crime\"]==\"C82\"]"
   ]
  },
  {
   "cell_type": "markdown",
   "metadata": {},
   "source": [
    "Now we see that \"ReddickJohn\" is listed twice, once as a Victim and once as a Suspect. We will need to regenerate the graph to show this update:"
   ]
  },
  {
   "cell_type": "code",
   "execution_count": 141,
   "metadata": {},
   "outputs": [
    {
     "name": "stdout",
     "output_type": "stream",
     "text": [
      "Name: \n",
      "Type: DiGraph\n",
      "Number of nodes: 1259\n",
      "Number of edges: 1322\n",
      "Average in degree:   1.0500\n",
      "Average out degree:   1.0500\n"
     ]
    }
   ],
   "source": [
    "G = nx.DiGraph()\n",
    "\n",
    "for n, r, c, s in zip(crime['Name'],crime['Role'],crime['Crime'],crime['Sex']):\n",
    "    if n not in G.nodes() and r != 'Witness':\n",
    "        G.add_node(n, Sex = s, bipartite = 0)\n",
    "    if c not in G.nodes():\n",
    "        G.add_node(c, bipartite = 1)\n",
    "    if r == 'Suspect':\n",
    "        G.add_edge(n,c)\n",
    "    elif r == 'Victim':\n",
    "        G.add_edge(c,n)\n",
    "\n",
    "print(nx.info(G))"
   ]
  },
  {
   "cell_type": "code",
   "execution_count": 142,
   "metadata": {},
   "outputs": [
    {
     "data": {
      "text/html": [
       "\n",
       "        <iframe\n",
       "            width=\"100%\"\n",
       "            height=\"800px\"\n",
       "            src=\"graph.html\"\n",
       "            frameborder=\"0\"\n",
       "            allowfullscreen\n",
       "        ></iframe>\n",
       "        "
      ],
      "text/plain": [
       "<IPython.lib.display.IFrame at 0x7fc7bae91970>"
      ]
     },
     "execution_count": 142,
     "metadata": {},
     "output_type": "execute_result"
    }
   ],
   "source": [
    "n2 = net.Network(height = \"800px\", width = \"100%\", notebook = True,\n",
    "               heading = 'Crimes and People v2', directed = True)\n",
    "\n",
    "n2.add_nodes(G.nodes())\n",
    "for u,v in G.edges():\n",
    "    n2.add_edge(u,v)\n",
    "\n",
    "n2.show(\"graph.html\")"
   ]
  },
  {
   "cell_type": "markdown",
   "metadata": {},
   "source": [
    "This looks MUCH better. Let's check for isolates again:"
   ]
  },
  {
   "cell_type": "code",
   "execution_count": 143,
   "metadata": {},
   "outputs": [
    {
     "data": {
      "text/plain": [
       "[]"
      ]
     },
     "execution_count": 143,
     "metadata": {},
     "output_type": "execute_result"
    }
   ],
   "source": [
    "unconn = [n for n in nx.isolates(G)]\n",
    "\n",
    "isol = [(n, c, r) for n, c, r in zip(crime[\"Name\"],crime[\"Crime\"],crime[\"Role\"]) if c in unconn or n in unconn]\n",
    "\n",
    "sorted(isol, key = lambda x: x[1], reverse = True)"
   ]
  },
  {
   "cell_type": "markdown",
   "metadata": {},
   "source": [
    "As we hoped, there are none."
   ]
  },
  {
   "cell_type": "code",
   "execution_count": null,
   "metadata": {},
   "outputs": [],
   "source": []
  },
  {
   "cell_type": "code",
   "execution_count": null,
   "metadata": {},
   "outputs": [],
   "source": []
  }
 ],
 "metadata": {
  "kernelspec": {
   "display_name": "Python 3",
   "language": "python",
   "name": "python3"
  },
  "language_info": {
   "codemirror_mode": {
    "name": "ipython",
    "version": 3
   },
   "file_extension": ".py",
   "mimetype": "text/x-python",
   "name": "python",
   "nbconvert_exporter": "python",
   "pygments_lexer": "ipython3",
   "version": "3.8.5"
  },
  "toc": {
   "base_numbering": 1,
   "nav_menu": {},
   "number_sections": true,
   "sideBar": true,
   "skip_h1_title": true,
   "title_cell": "Table of Contents",
   "title_sidebar": "Contents",
   "toc_cell": false,
   "toc_position": {},
   "toc_section_display": true,
   "toc_window_display": false
  },
  "varInspector": {
   "cols": {
    "lenName": 16,
    "lenType": 16,
    "lenVar": 40
   },
   "kernels_config": {
    "python": {
     "delete_cmd_postfix": "",
     "delete_cmd_prefix": "del ",
     "library": "var_list.py",
     "varRefreshCmd": "print(var_dic_list())"
    },
    "r": {
     "delete_cmd_postfix": ") ",
     "delete_cmd_prefix": "rm(",
     "library": "var_list.r",
     "varRefreshCmd": "cat(var_dic_list()) "
    }
   },
   "types_to_exclude": [
    "module",
    "function",
    "builtin_function_or_method",
    "instance",
    "_Feature"
   ],
   "window_display": false
  }
 },
 "nbformat": 4,
 "nbformat_minor": 4
}
